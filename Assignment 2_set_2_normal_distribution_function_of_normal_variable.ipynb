{
 "cells": [
  {
   "cell_type": "markdown",
   "id": "ebb134a1",
   "metadata": {},
   "source": [
    "### Q1.\tThe time required for servicing transmissions is normally distributed with  = 45 minutes and std = 8     minutes. The service manager plans to have work begin on the transmission of a customer’s car 10 minutes after   the car is dropped off and the customer is told that the car will be ready within 1 hour from drop-off. What is the   probability that the service manager cannot meet his commitment? "
   ]
  },
  {
   "cell_type": "code",
   "execution_count": 17,
   "id": "20da625e",
   "metadata": {},
   "outputs": [],
   "source": [
    "from scipy import stats\n",
    "import numpy as np"
   ]
  },
  {
   "cell_type": "code",
   "execution_count": 6,
   "id": "6b8c3b33",
   "metadata": {},
   "outputs": [
    {
     "data": {
      "text/plain": [
       "0.26598552904870054"
      ]
     },
     "execution_count": 6,
     "metadata": {},
     "output_type": "execute_result"
    }
   ],
   "source": [
    "#P(x>50)\n",
    "1-stats.norm.cdf(x=50,loc=45,scale=8)"
   ]
  },
  {
   "cell_type": "markdown",
   "id": "29adccae",
   "metadata": {},
   "source": [
    "### Probability of serviceman will not meet his demand will be 0.26"
   ]
  },
  {
   "cell_type": "markdown",
   "id": "3f9f733d",
   "metadata": {},
   "source": [
    "### Q2. The current age (in years) of 400 clerical employees at an insurance claims processing center is normally distributed with mean = 38 and Standard deviation =6. For each statement below, please specify True/False. If false, briefly explain why.\n",
    "*\tMore employees at the processing center are older than 44 than between 38 and 44.\n",
    "*\tA training program for employees under the age of 30 at the center would be expected to attract about 36 employees."
   ]
  },
  {
   "cell_type": "code",
   "execution_count": 8,
   "id": "4a4131c8",
   "metadata": {},
   "outputs": [
    {
     "data": {
      "text/plain": [
       "0.15865525393145707"
      ]
     },
     "execution_count": 8,
     "metadata": {},
     "output_type": "execute_result"
    }
   ],
   "source": [
    "# probability of employees at the processing center are older than 44 (p>44)\n",
    "1-stats.norm.cdf(x=44,loc=38,scale=6)"
   ]
  },
  {
   "cell_type": "code",
   "execution_count": 10,
   "id": "15d4d1a8",
   "metadata": {},
   "outputs": [
    {
     "data": {
      "text/plain": [
       "0.3413447460685429"
      ]
     },
     "execution_count": 10,
     "metadata": {},
     "output_type": "execute_result"
    }
   ],
   "source": [
    "##probability of employees at the processing center between 38<x<44\n",
    "(stats.norm.cdf(x=44,loc=38,scale=6))-(stats.norm.cdf(x=38,loc=38,scale=6))"
   ]
  },
  {
   "cell_type": "markdown",
   "id": "242b9c20",
   "metadata": {},
   "source": [
    "### Statement 1 is False. More employees at the processing centre are between 38 and 44."
   ]
  },
  {
   "cell_type": "code",
   "execution_count": 12,
   "id": "5b57a0e6",
   "metadata": {},
   "outputs": [
    {
     "data": {
      "text/plain": [
       "0.0912"
      ]
     },
     "execution_count": 12,
     "metadata": {},
     "output_type": "execute_result"
    }
   ],
   "source": [
    "# employees under the age 30\n",
    "stats.norm.cdf(x=30,loc=38,scale=6).round(4)"
   ]
  },
  {
   "cell_type": "code",
   "execution_count": 14,
   "id": "5421db90",
   "metadata": {},
   "outputs": [
    {
     "data": {
      "text/plain": [
       "36.480000000000004"
      ]
     },
     "execution_count": 14,
     "metadata": {},
     "output_type": "execute_result"
    }
   ],
   "source": [
    "# number of employees with probability 0.912 of them being under age 30 \n",
    "0.0912*400"
   ]
  },
  {
   "cell_type": "markdown",
   "id": "836d2726",
   "metadata": {},
   "source": [
    "### The statement of training program for employees under the age of 30 at the center would be expected to attract about 36 employees is TRUE"
   ]
  },
  {
   "cell_type": "markdown",
   "id": "f08d4c4b",
   "metadata": {},
   "source": [
    "### Q3. If X1~ N(μ, σ2) and X2 ~ N(μ, σ2) are iidnormal random variables, then what is the difference between 2 X1 and X1 + X2? Discuss both their distributions and parameters.       "
   ]
  },
  {
   "cell_type": "code",
   "execution_count": 15,
   "id": "313216d4",
   "metadata": {},
   "outputs": [],
   "source": [
    "### 2X1~ N(2u , 4A^2) and \n",
    "### X1+X2 ~  N(u + u, A^2 + A^2 ) ~ N(2u, 2A^2)\n",
    "### 2X1-(X1+X2) = N( 4u,6A^2)\n"
   ]
  },
  {
   "cell_type": "markdown",
   "id": "585e9042",
   "metadata": {},
   "source": [
    "### Q4.\tLet X ~ N(100, 20^2). Find two values, a andb, symmetric about the mean, such that the probability of the random variable taking a value between them is 0.99. "
   ]
  },
  {
   "cell_type": "code",
   "execution_count": 39,
   "id": "4e45130f",
   "metadata": {},
   "outputs": [
    {
     "name": "stdout",
     "output_type": "stream",
     "text": [
      "values a and b symmetric about the mean is  (48.48341392902199, 151.516586070978)\n"
     ]
    }
   ],
   "source": [
    "## Mean=100, std=20\n",
    "interval_value = stats.norm.interval(0.99,100,20)\n",
    "print('values a and b symmetric about the mean is ',interval_value)"
   ]
  },
  {
   "cell_type": "markdown",
   "id": "31e4999e",
   "metadata": {},
   "source": [
    "### Q5. Consider a company that has two different divisions. The annual profits from the two divisions are independent and have distributions Profit1 ~ N(5, 3^2) and Profit2 ~ N(7, 4^2) respectively. Both the profits are in    Million. Answer the following questions about the total profit of the company in Rupees. Assume that $1 = Rs. 45\n",
    "A.\tSpecify a Rupee range (centered on the mean) such that it contains 95% probability for the annual profit of the company.\n",
    "B.\tSpecify the 5th percentile of profit (in Rupees) for the company\n",
    "C.\tWhich of the two divisions has a larger probability of making a loss in a given year?\n"
   ]
  },
  {
   "cell_type": "code",
   "execution_count": 16,
   "id": "00050412",
   "metadata": {},
   "outputs": [
    {
     "name": "stdout",
     "output_type": "stream",
     "text": [
      "Mean Profit is Rs 540 Million\n"
     ]
    }
   ],
   "source": [
    "# Mean profits from two different divisions of a company = Mean1 + Mean2\n",
    "Mean = 5+7\n",
    "print('Mean Profit is Rs', Mean*45)"
   ]
  },
  {
   "cell_type": "code",
   "execution_count": 18,
   "id": "f2a03d1a",
   "metadata": {},
   "outputs": [
    {
     "name": "stdout",
     "output_type": "stream",
     "text": [
      "Standard Deviation is Rs 225.0 Million\n"
     ]
    }
   ],
   "source": [
    "# Variance of profits from two different divisions of a company = SD^2 = SD1^2 + SD2^2\n",
    "SD = np.sqrt((9)+(16))\n",
    "print('Standard Deviation is Rs', SD*45)"
   ]
  },
  {
   "cell_type": "code",
   "execution_count": 24,
   "id": "7b9b30af",
   "metadata": {},
   "outputs": [
    {
     "name": "stdout",
     "output_type": "stream",
     "text": [
      "range is Rs. (99.00810347848784, 980.9918965215122)\n"
     ]
    }
   ],
   "source": [
    "# A. Rupee range such that it contains 95% probability for the annual profit of the company. \n",
    "range=stats.norm.interval(alpha=0.95,loc=540,scale=225)\n",
    "print('Range is Rs.',range)"
   ]
  },
  {
   "cell_type": "code",
   "execution_count": 32,
   "id": "511a155d",
   "metadata": {},
   "outputs": [
    {
     "name": "stdout",
     "output_type": "stream",
     "text": [
      "Z value is:  -1.6449\n",
      "5th percentile of profit (in Rupees) : 7645.0\n"
     ]
    }
   ],
   "source": [
    "# B. 5th percentile of profit (in Rupees) for the company\n",
    "# To compute 5th Percentile, we use the formula X=μ + Zσ\n",
    "z_value=stats.norm.ppf(0.05).round(4)\n",
    "print('Z value is: ',z_value)\n",
    "x=540+((-1.6449)*225)\n",
    "print('5th percentile of profit (in Rupees) :',np.round(x*45))"
   ]
  },
  {
   "cell_type": "code",
   "execution_count": 36,
   "id": "e007a667",
   "metadata": {},
   "outputs": [
    {
     "name": "stdout",
     "output_type": "stream",
     "text": [
      "Probability of division A:  0.0477903522728147\n"
     ]
    }
   ],
   "source": [
    "#C. \n",
    "a=stats.norm.cdf(0,5,3)\n",
    "print('Probability of division A: ',a)"
   ]
  },
  {
   "cell_type": "code",
   "execution_count": 37,
   "id": "8d189172",
   "metadata": {},
   "outputs": [
    {
     "name": "stdout",
     "output_type": "stream",
     "text": [
      "Probability of division B:  0.040059156863817086\n"
     ]
    }
   ],
   "source": [
    "b=stats.norm.cdf(0,7,4)\n",
    "print('Probability of division B: ',b)"
   ]
  },
  {
   "cell_type": "markdown",
   "id": "cd72c820",
   "metadata": {},
   "source": [
    "### Inference: Divisions A has a larger probability of making a loss in a given year. "
   ]
  },
  {
   "cell_type": "code",
   "execution_count": null,
   "id": "9108a1f1",
   "metadata": {},
   "outputs": [],
   "source": []
  }
 ],
 "metadata": {
  "kernelspec": {
   "display_name": "Python 3",
   "language": "python",
   "name": "python3"
  },
  "language_info": {
   "codemirror_mode": {
    "name": "ipython",
    "version": 3
   },
   "file_extension": ".py",
   "mimetype": "text/x-python",
   "name": "python",
   "nbconvert_exporter": "python",
   "pygments_lexer": "ipython3",
   "version": "3.8.8"
  }
 },
 "nbformat": 4,
 "nbformat_minor": 5
}
